{
 "cells": [
  {
   "cell_type": "markdown",
   "id": "2356ddb8-338c-49fd-8631-2c97377b25a6",
   "metadata": {
    "tags": []
   },
   "source": [
    "# Data Science Tools and Ecosystem"
   ]
  },
  {
   "cell_type": "markdown",
   "id": "0523e3fa-12fa-450c-9fe3-401a679652a6",
   "metadata": {},
   "source": [
    "In this notebook, Data Science Tools and Ecosystem are summarized."
   ]
  },
  {
   "cell_type": "markdown",
   "id": "15ae59cb-ea88-45bc-9e97-6dd4dae6a531",
   "metadata": {},
   "source": [
    "Objectives:\n",
    "\n",
    "*  List commonly used libraries in data science\n",
    "*  List three development environment open source tools used in data science\n",
    "*  List commonly used languages for data science"
   ]
  },
  {
   "cell_type": "markdown",
   "id": "7c98a85e-0283-4859-b13a-b56a9dfcaddb",
   "metadata": {
    "tags": []
   },
   "source": [
    "Some of the popular languages that Data Scientists use are:\n",
    "    \n",
    "1.  Python\n",
    "2.  R\n",
    "3.  C++"
   ]
  },
  {
   "cell_type": "markdown",
   "id": "263565e8-64c0-4456-bbe4-335da2abfa1d",
   "metadata": {},
   "source": [
    "Some of the commonly used libraries used by Data Scientists include:\n",
    "\n",
    "1.  Pandas\n",
    "2.  Numpy\n",
    "3.  Matplotlib"
   ]
  },
  {
   "cell_type": "markdown",
   "id": "82ae5bea-21b0-47b6-b2bd-e26e1fd8a1e8",
   "metadata": {},
   "source": [
    "|Data Science Tools|\n",
    "|:----------------:|\n",
    "|Anaconda          |\n",
    "|JupyterLab        |\n",
    "|RStudio           |\n",
    "\n"
   ]
  },
  {
   "cell_type": "markdown",
   "id": "a9f65ae1-b488-4006-88e9-18608df80ae6",
   "metadata": {},
   "source": [
    "### Below are a few examples of evaluating arithmetic expressions in Python"
   ]
  },
  {
   "cell_type": "code",
   "execution_count": 3,
   "id": "cd81bbef-b13e-420c-8527-ca13b73e4fd7",
   "metadata": {
    "tags": []
   },
   "outputs": [
    {
     "data": {
      "text/plain": [
       "17"
      ]
     },
     "execution_count": 3,
     "metadata": {},
     "output_type": "execute_result"
    }
   ],
   "source": [
    "# This a simple arithmetic expression to mutiply then add integers\n",
    "\n",
    "(3*4)+5"
   ]
  },
  {
   "cell_type": "code",
   "execution_count": 4,
   "id": "7edde6cb-e5af-4405-9ed0-6afc3627fd02",
   "metadata": {
    "tags": []
   },
   "outputs": [
    {
     "data": {
      "text/plain": [
       "3.3333333333333335"
      ]
     },
     "execution_count": 4,
     "metadata": {},
     "output_type": "execute_result"
    }
   ],
   "source": [
    "# This will convert 200 minutes to hours by diving by 60\n",
    "\n",
    "200/60"
   ]
  },
  {
   "cell_type": "markdown",
   "id": "1d3d8399-4ad5-47ae-9042-7c33d86252c1",
   "metadata": {},
   "source": [
    "## Author\n",
    "\n",
    "Fernando Pavón"
   ]
  },
  {
   "cell_type": "code",
   "execution_count": null,
   "id": "a796259c-bca4-4ec0-a5b3-184d95199165",
   "metadata": {},
   "outputs": [],
   "source": []
  }
 ],
 "metadata": {
  "kernelspec": {
   "display_name": "Python 3 (ipykernel)",
   "language": "python",
   "name": "python3"
  },
  "language_info": {
   "codemirror_mode": {
    "name": "ipython",
    "version": 3
   },
   "file_extension": ".py",
   "mimetype": "text/x-python",
   "name": "python",
   "nbconvert_exporter": "python",
   "pygments_lexer": "ipython3",
   "version": "3.11.4"
  }
 },
 "nbformat": 4,
 "nbformat_minor": 5
}
